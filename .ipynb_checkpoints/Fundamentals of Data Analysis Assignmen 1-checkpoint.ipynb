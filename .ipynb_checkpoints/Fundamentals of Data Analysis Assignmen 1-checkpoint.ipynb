{
 "cells": [
  {
   "cell_type": "markdown",
   "metadata": {
    "collapsed": true
   },
   "source": [
    "# Fundamentals of Data Analytics Assignment 1 #"
   ]
  },
  {
   "cell_type": "markdown",
   "metadata": {
    "collapsed": true
   },
   "source": [
    "Anscombe's quartet comprises four datasets that have nearly identical simple descriptive statistics, yet appear very different when graphed. Each dataset consists of eleven (x,y) points. They were constructed in 1973 by the statistician Francis Anscombe to demonstrate both the importance of graphing data before analyzing it and the effect of outliers on statistical properties. He described the article as being intended to counter the impression among statisticians that \"numerical calculations are exact, but graphs are rough.\" (Reference Wikipedia; https://en.wikipedia.org/wiki/Anscombe%27s_quartet)"
   ]
  },
  {
   "cell_type": "markdown",
   "metadata": {},
   "source": [
    "The first thing we need to do is to set up our work book to use the internal tools and libraries within Python. For this I am going to import a number of useful tools and libraries such as Numpy, Matplotlib, Seaborn, and Pandas."
   ]
  },
  {
   "cell_type": "code",
   "execution_count": 1,
   "metadata": {
    "collapsed": true
   },
   "outputs": [],
   "source": [
    "import pandas as pd"
   ]
  },
  {
   "cell_type": "code",
   "execution_count": 2,
   "metadata": {
    "collapsed": true
   },
   "outputs": [],
   "source": [
    "import numpy as np"
   ]
  },
  {
   "cell_type": "code",
   "execution_count": 3,
   "metadata": {
    "collapsed": true
   },
   "outputs": [],
   "source": [
    "import matplotlib.pyplot as plt"
   ]
  },
  {
   "cell_type": "code",
   "execution_count": 4,
   "metadata": {
    "collapsed": true
   },
   "outputs": [],
   "source": [
    "import seaborn as sns"
   ]
  },
  {
   "cell_type": "markdown",
   "metadata": {},
   "source": [
    "## Assigning Distinct Designation of the Anscombe Quartet Data Sets"
   ]
  },
  {
   "cell_type": "markdown",
   "metadata": {
    "collapsed": true
   },
   "source": [
    "The first thing that I am going to do is assign a distinct designation to each of the data sets for the purpose of identification and clarity during analysis.\n",
    "\n",
    "Below I have broken Anscombes Quartet into eight different rows grouped and labled based on their quartet number i.e. 1-4 columns of x,y position. So for the first column of data in Anscombes Quartet, I have labled the x- positions x1 and the y-positions y1, x2 for the second column etc."
   ]
  },
  {
   "cell_type": "code",
   "execution_count": 5,
   "metadata": {
    "collapsed": true
   },
   "outputs": [],
   "source": [
    "x1 = [10.0, 8.0,  13.0,  9.0,  11.0, 14.0, 6.0,  4.0,  12.0,  7.0,  5.0]\n",
    "y1 = [8.04, 6.95, 7.58,  8.81, 8.33, 9.96, 7.24, 4.26, 10.84, 4.82, 5.68]\n",
    "\n",
    "x2 = [10.0, 8.0,  13.0,  9.0,  11.0, 14.0, 6.0,  4.0,  12.0,  7.0,  5.0]\n",
    "y2 = [9.14, 8.14, 8.74,  8.77, 9.26, 8.10, 6.13, 3.10, 9.13,  7.26, 4.74]\n",
    "\n",
    "x3 = [10.0, 8.0,  13.0,  9.0,  11.0, 14.0, 6.0,  4.0,  12.0,  7.0,  5.0]\n",
    "y3 = [7.46, 6.77, 12.74, 7.11, 7.81, 8.84, 6.08, 5.39, 8.15,  6.42, 5.73]\n",
    "\n",
    "x4 = [8.0,  8.0,  8.0,   8.0,  8.0,  8.0,  8.0,  19.0,  8.0,  8.0,  8.0]\n",
    "y4 = [6.58, 5.76, 7.71,  8.84, 8.47, 7.04, 5.25, 12.50, 5.56, 7.91, 6.89]"
   ]
  },
  {
   "cell_type": "markdown",
   "metadata": {},
   "source": [
    "## Descriptive Statistics\n",
    "\n",
    "The basic premis behind Francis Anscombe quartet is that when reviewing data a holistic approach needs to be taken. Statistics and the data that make up the results of the statistical analysis need to be reviewed in conjustion with a graphical representation to get a complete picture of the results and findings.\n",
    "\n",
    "Below I am going to detail the following descriptive statistics for each of the data sets within Anscombes Quartet.\n",
    "\n",
    "- Mean\n",
    "- Mode\n",
    "- Standard Deviation (std)\n",
    "- Max Value (MV)\n",
    "- Min Value (LM)"
   ]
  },
  {
   "cell_type": "markdown",
   "metadata": {},
   "source": [
    "** Quartet 1 x1,y1**\n",
    "\n",
    "What follows are the descriptive statistics for Anscombes Quartet Column 1. Included is the coding required and also a brief outline of the basic statistics. "
   ]
  },
  {
   "cell_type": "code",
   "execution_count": 6,
   "metadata": {
    "collapsed": true
   },
   "outputs": [],
   "source": [
    "Meanx1 = np.mean(x1)\n",
    "Meany1 = np.mean(y1)\n",
    "Medianx1 = np.median(x1)\n",
    "Mediany1 = np.median(y1)\n",
    "Stdx1 = np.std(x1)\n",
    "Stdy1 = np.std(y1)\n",
    "MVx1 = np.max(x1)\n",
    "MVy1 = np.max(y1)\n",
    "LMx1 = np.min(x1)\n",
    "LMy1 = np.min(y1)\n"
   ]
  },
  {
   "cell_type": "code",
   "execution_count": 7,
   "metadata": {},
   "outputs": [
    {
     "name": "stdout",
     "output_type": "stream",
     "text": [
      "The Mean of x1 is 9.0\n",
      "The Mean of y1 is 7.50090909091\n",
      "The Median of x1 is 9.0\n",
      "The Median of y1 is 7.58\n",
      "The Standard Deviation of x1 is 3.16227766017\n",
      "The Standard Deviation of y1 is 1.93702421511\n",
      "The Maximum Value of x1 is 14.0\n",
      "The Maximum Value of y1 is 10.84\n",
      "The Minimum Value of x1 is 4.0\n",
      "The Minimum Value of x1 is 4.26\n"
     ]
    }
   ],
   "source": [
    "print(\"The Mean of x1 is\",Meanx1)\n",
    "print(\"The Mean of y1 is\",Meany1)\n",
    "print(\"The Median of x1 is\",Medianx1)\n",
    "print(\"The Median of y1 is\",Mediany1)\n",
    "print(\"The Standard Deviation of x1 is\",Stdx1)\n",
    "print(\"The Standard Deviation of y1 is\",Stdy1)\n",
    "print(\"The Maximum Value of x1 is\",MVx1)\n",
    "print(\"The Maximum Value of y1 is\",MVy1)\n",
    "print(\"The Minimum Value of x1 is\",LMx1)\n",
    "print(\"The Minimum Value of y1 is\",LMy1)"
   ]
  },
  {
   "cell_type": "markdown",
   "metadata": {},
   "source": [
    "**Quartet 2 x2,y2**\n",
    "\n",
    "Below details the descriptive statistics for Anscombes Quartet Column 2. Included is the coding required and also a brief outline of the basic statistics. "
   ]
  },
  {
   "cell_type": "code",
   "execution_count": 8,
   "metadata": {
    "collapsed": true
   },
   "outputs": [],
   "source": [
    "Meanx2 = np.mean(x2)\n",
    "Meany2 = np.mean(y2)\n",
    "Medianx2 = np.median(x2)\n",
    "Mediany2 = np.median(y2)\n",
    "Stdx2 = np.std(x2)\n",
    "Stdy2 = np.std(y2)\n",
    "MVx2 = np.max(x2)\n",
    "MVy2 = np.max(y2)\n",
    "LMx2 = np.min(x2)\n",
    "LMy2 = np.min(y2)\n"
   ]
  },
  {
   "cell_type": "code",
   "execution_count": 9,
   "metadata": {},
   "outputs": [
    {
     "name": "stdout",
     "output_type": "stream",
     "text": [
      "The Mean of x2 is 9.0\n",
      "The Mean of y2 is 7.50090909091\n",
      "The Median of x2 is 9.0\n",
      "The Median of y2 is 8.14\n",
      "The Standard Deviation of x2 is 3.16227766017\n",
      "The Standard Deviation of y2 is 1.93710869149\n",
      "The Maximum Value of x2 is 14.0\n",
      "The Maximum Value of y2 is 9.26\n",
      "The Minimum Value of x2 is 4.0\n",
      "The Minimum Value of x2 is 3.1\n"
     ]
    }
   ],
   "source": [
    "print(\"The Mean of x2 is\",Meanx2)\n",
    "print(\"The Mean of y2 is\",Meany2)\n",
    "print(\"The Median of x2 is\",Medianx2)\n",
    "print(\"The Median of y2 is\",Mediany2)\n",
    "print(\"The Standard Deviation of x2 is\",Stdx2)\n",
    "print(\"The Standard Deviation of y2 is\",Stdy2)\n",
    "print(\"The Maximum Value of x2 is\",MVx2)\n",
    "print(\"The Maximum Value of y2 is\",MVy2)\n",
    "print(\"The Minimum Value of x2 is\",LMx2)\n",
    "print(\"The Minimum Value of x2 is\",LMy2)"
   ]
  },
  {
   "cell_type": "markdown",
   "metadata": {},
   "source": [
    "**Quartet 3 x3,y3**\n",
    "\n",
    "Below details the descriptive statistics for Anscombes Quartet Column 3. Included is the coding required and also a brief outline of the basic statistics."
   ]
  },
  {
   "cell_type": "code",
   "execution_count": 10,
   "metadata": {
    "collapsed": true
   },
   "outputs": [],
   "source": [
    "Meanx3 = np.mean(x3)\n",
    "Meany3 = np.mean(y3)\n",
    "Medianx3 = np.median(x3)\n",
    "Mediany3 = np.median(y3)\n",
    "Stdx3 = np.std(x3)\n",
    "Stdy3 = np.std(y3)\n",
    "MVx3 = np.max(x3)\n",
    "MVy3 = np.max(y3)\n",
    "LMx3 = np.min(x3)\n",
    "LMy3 = np.min(y3)"
   ]
  },
  {
   "cell_type": "code",
   "execution_count": 11,
   "metadata": {},
   "outputs": [
    {
     "name": "stdout",
     "output_type": "stream",
     "text": [
      "The Mean of x3 is 9.0\n",
      "The Mean of y3 is 7.5\n",
      "The Median of x3 is 9.0\n",
      "The Median of y3 is 7.11\n",
      "The Standard Deviation of x3 is 3.16227766017\n",
      "The Standard Deviation of y3 is 1.93593294399\n",
      "The Maximum Value of x3 is 14.0\n",
      "The Maximum Value of y3 is 12.74\n",
      "The Minimum Value of x3 is 4.0\n",
      "The Minimum Value of x3 is 5.39\n"
     ]
    }
   ],
   "source": [
    "print(\"The Mean of x3 is\",Meanx3)\n",
    "print(\"The Mean of y3 is\",Meany3)\n",
    "print(\"The Median of x3 is\",Medianx3)\n",
    "print(\"The Median of y3 is\",Mediany3)\n",
    "print(\"The Standard Deviation of x3 is\",Stdx3)\n",
    "print(\"The Standard Deviation of y3 is\",Stdy3)\n",
    "print(\"The Maximum Value of x3 is\",MVx3)\n",
    "print(\"The Maximum Value of y3 is\",MVy3)\n",
    "print(\"The Minimum Value of x3 is\",LMx3)\n",
    "print(\"The Minimum Value of x3 is\",LMy3)"
   ]
  },
  {
   "cell_type": "markdown",
   "metadata": {},
   "source": [
    "**Quartet 4 x4,y4**\n",
    "\n",
    "Finally we look below at the descriptive statistics for Anscombes Quartet Column 4. Included is the coding required and also a brief outline of the basic statistics.\n",
    "\n"
   ]
  },
  {
   "cell_type": "code",
   "execution_count": 12,
   "metadata": {
    "collapsed": true
   },
   "outputs": [],
   "source": [
    "Meanx4 = np.mean(x4)\n",
    "Meany4 = np.mean(y4)\n",
    "Medianx4 = np.median(x4)\n",
    "Mediany4 = np.median(y4)\n",
    "Stdx4 = np.std(x4)\n",
    "Stdy4 = np.std(y4)\n",
    "MVx4 = np.max(x4)\n",
    "MVy4 = np.max(y4)\n",
    "LMx4 = np.min(x4)\n",
    "LMy4 = np.min(y4)"
   ]
  },
  {
   "cell_type": "code",
   "execution_count": 13,
   "metadata": {},
   "outputs": [
    {
     "name": "stdout",
     "output_type": "stream",
     "text": [
      "The Mean of x4 is 9.0\n",
      "The Mean of y4 is 7.50090909091\n",
      "The Median of x4 is 8.0\n",
      "The Median of y4 is 7.04\n",
      "The Standard Deviation of x4 is 3.16227766017\n",
      "The Standard Deviation of y4 is 1.93608064513\n",
      "The Maximum Value of x4 is 19.0\n",
      "The Maximum Value of y4 is 12.5\n",
      "The Minimum Value of x4 is 8.0\n",
      "The Minimum Value of x4 is 5.25\n"
     ]
    }
   ],
   "source": [
    "print(\"The Mean of x4 is\",Meanx4)\n",
    "print(\"The Mean of y4 is\",Meany4)\n",
    "print(\"The Median of x4 is\",Medianx4)\n",
    "print(\"The Median of y4 is\",Mediany4)\n",
    "print(\"The Standard Deviation of x4 is\",Stdx4)\n",
    "print(\"The Standard Deviation of y4 is\",Stdy4)\n",
    "print(\"The Maximum Value of x4 is\",MVx4)\n",
    "print(\"The Maximum Value of y4 is\",MVy4)\n",
    "print(\"The Minimum Value of x4 is\",LMx4)\n",
    "print(\"The Minimum Value of x4 is\",LMy4)"
   ]
  },
  {
   "cell_type": "markdown",
   "metadata": {},
   "source": [
    "## Summary of Anscombes Quartet Discriptive Statistics"
   ]
  },
  {
   "cell_type": "code",
   "execution_count": 14,
   "metadata": {},
   "outputs": [
    {
     "name": "stdout",
     "output_type": "stream",
     "text": [
      "The X Means of Anscombes Quartet are as follows; 9.0 9.0 9.0 9.0\n",
      "The Y Means of Anscombes Quartet are as follows; 7.50090909091 7.50090909091 7.5 7.50090909091\n",
      "The X Medians of Anscombes Quartet are as follows; 9.0 9.0 9.0 8.0\n",
      "The Y Medians of Anscombes Quartet are as follows; 7.58 8.14 7.11 7.04\n",
      "The X Standard Deviation of Anscombes Quartet are as follows; 3.16227766017 3.16227766017 3.16227766017 3.16227766017\n",
      "The Y Standard Deviation of Anscombes Quartet are as follows; 1.93702421511 1.93710869149 1.93593294399 1.93608064513\n",
      "The X Maximum Value of Anscombes Quartet are as follows; 14.0 14.0 14.0 19.0\n",
      "The Y Maximum Value of Anscombes Quartet are as follows; 10.84 9.26 12.74 12.5\n",
      "The X Minimum Value of Anscombes Quartet are as follows; 4.0 4.0 4.0 8.0\n",
      "The Y Minimum Value of Anscombes Quartet are as follows; 4.26 3.1 5.39 5.25\n"
     ]
    }
   ],
   "source": [
    "print(\"The X Means of Anscombes Quartet are as follows;\",Meanx1, Meanx2, Meanx3, Meanx4)\n",
    "print(\"The Y Means of Anscombes Quartet are as follows;\",Meany1, Meany2, Meany3, Meany4)\n",
    "print(\"The X Medians of Anscombes Quartet are as follows;\",Medianx1, Medianx2, Medianx3, Medianx4)\n",
    "print(\"The Y Medians of Anscombes Quartet are as follows;\",Mediany1, Mediany2, Mediany3, Mediany4)\n",
    "print(\"The X Standard Deviation of Anscombes Quartet are as follows;\",Stdx1, Stdx2, Stdx3, Stdx4)\n",
    "print(\"The Y Standard Deviation of Anscombes Quartet are as follows;\",Stdy1, Stdy2, Stdy3, Stdy4)\n",
    "print(\"The X Maximum Value of Anscombes Quartet are as follows;\",MVx1, MVx2, MVx3, MVx4)\n",
    "print(\"The Y Maximum Value of Anscombes Quartet are as follows;\",MVy1, MVy2, MVy3, MVy4)\n",
    "print(\"The X Minimum Value of Anscombes Quartet are as follows;\",LMx1, LMx2, LMx3, LMx4)\n",
    "print(\"The Y Minimum Value of Anscombes Quartet are as follows;\",LMy1, LMy2, LMy3, LMy4)"
   ]
  },
  {
   "cell_type": "markdown",
   "metadata": {},
   "source": [
    "## Slope Calculation for Each of the Quartets\n",
    "\n",
    "To determine the slope of the lines for each of Anscombes Quartets (if there is a linear relationship) the following formulae will be used;\n",
    "\n",
    "                                    m = (y2-y1) / (x2-x1)\n",
    "                                    \n",
    "To provode clarity the slope of Anscombes individual Quartets will be designated as follows;\n",
    "\n",
    "- Quartet 1 = m1\n",
    "- Quartet 2 = m2\n",
    "- Quartet 3 = m3\n",
    "- Quartet 4 = m4"
   ]
  },
  {
   "cell_type": "code",
   "execution_count": 49,
   "metadata": {},
   "outputs": [
    {
     "name": "stdout",
     "output_type": "stream",
     "text": [
      "The Slope (m) of Quartet 1 is; 0.658\n",
      "The Slope (m) of Quartet 2 is; 0.616\n",
      "The Slope (m) of Quartet 3 is; 0.735\n",
      "The Slope (m) of Quartet 4 is; 0.659090909091\n"
     ]
    }
   ],
   "source": [
    "m1= ((MVy1-LMy1) / (MVx1-LMx1))\n",
    "print (\"The Slope (m) of Quartet 1 is;\", m1)\n",
    "m2= ((MVy2-LMy2) / (MVx2-LMx2))\n",
    "print (\"The Slope (m) of Quartet 2 is;\", m2)\n",
    "m3= ((MVy3-LMy3) / (MVx3-LMx3))\n",
    "print (\"The Slope (m) of Quartet 3 is;\", m3)\n",
    "m4= ((MVy4-LMy4) / (MVx4-LMx4))\n",
    "print (\"The Slope (m) of Quartet 4 is;\", m4)"
   ]
  },
  {
   "cell_type": "markdown",
   "metadata": {},
   "source": [
    "By calculating the slope of each of the quartets within Anscombes data set we get our first clue that something is a miss. Even though the descriptive statistics are very similar, you would expect the plotted data would be similar or very close but as the slope of the lines are very different we get an idea that the data cannot look the same."
   ]
  },
  {
   "cell_type": "markdown",
   "metadata": {},
   "source": [
    "## Graphical Summary of Anscombe Quartet\n",
    "\n",
    "As can be seen from the descriptive statistics summary, the mean's of each of the quartets (x,y) are extremely close as are all the other descriptive statistics listed.It would not be unreasonable to assume the data points would plot in a similar distribution. To investigate this we will plot each of the quartets and look to determine the best fit line."
   ]
  },
  {
   "cell_type": "markdown",
   "metadata": {},
   "source": [
    "**Scatter Plot of Anscombes Quartet 1**"
   ]
  },
  {
   "cell_type": "code",
   "execution_count": 26,
   "metadata": {},
   "outputs": [
    {
     "data": {
      "image/png": "[encoded data removed]",
      "text/plain": [
       "<matplotlib.figure.Figure at 0x1cf56c4b080>"
      ]
     },
     "metadata": {},
     "output_type": "display_data"
    }
   ],
   "source": [
    "plt.plot(x1, y1, 'k.', color='black')\n",
    "plt.title('Anscombes Quartet 1')\n",
    "plt.xlabel('X1')\n",
    "plt.ylabel('Y1')\n",
    "plt.show()"
   ]
  },
  {
   "cell_type": "markdown",
   "metadata": {},
   "source": [
    "A scatter plot has been created for the first data set from Anscombes Quartet and there does seem to be a slight positive linear relationship between the x1 and y1 values. We will now plot a line between the lowest x1 value and the largest x1 value to visualise where each data point lays in relation to the slope between the two x values."
   ]
  },
  {
   "cell_type": "code",
   "execution_count": 40,
   "metadata": {},
   "outputs": [
    {
     "data": {
      "image/png": "[encoded data removed]",
      "text/plain": [
       "<matplotlib.figure.Figure at 0x1cf56e44b00>"
      ]
     },
     "metadata": {},
     "output_type": "display_data"
    }
   ],
   "source": [
    "plt.plot(x1, y1, 'k.', color='black', label=\"Data\")\n",
    "plt.plot([14,4],[9.6,4.26],'b', label=\"Slope Line\")\n",
    "plt.legend()\n",
    "plt.title('Anscombes Quartet 1')\n",
    "plt.xlabel('X1')\n",
    "plt.ylabel('Y1')\n",
    "plt.show()"
   ]
  },
  {
   "cell_type": "markdown",
   "metadata": {},
   "source": [
    "A line has been plotted between the lowest and the highest points within the Anscombe Quartet Column 1. But as you can see there is more points above the line than below.  "
   ]
  },
  {
   "cell_type": "code",
   "execution_count": 16,
   "metadata": {},
   "outputs": [
    {
     "data": {
      "text/plain": [
       "array([ 0.50009091,  3.00009091])"
      ]
     },
     "execution_count": 16,
     "metadata": {},
     "output_type": "execute_result"
    }
   ],
   "source": [
    "np.polyfit(x1,y1,1)"
   ]
  },
  {
   "cell_type": "code",
   "execution_count": null,
   "metadata": {
    "collapsed": true
   },
   "outputs": [],
   "source": []
  }
 ],
 "metadata": {
  "kernelspec": {
   "display_name": "Python 3",
   "language": "python",
   "name": "python3"
  },
  "language_info": {
   "codemirror_mode": {
    "name": "ipython",
    "version": 3
   },
   "file_extension": ".py",
   "mimetype": "text/x-python",
   "name": "python",
   "nbconvert_exporter": "python",
   "pygments_lexer": "ipython3",
   "version": "3.6.3"
  }
 },
 "nbformat": 4,
 "nbformat_minor": 2
}
