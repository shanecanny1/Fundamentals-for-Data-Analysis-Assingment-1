{
 "cells": [
  {
   "cell_type": "markdown",
   "metadata": {
    "collapsed": true
   },
   "source": [
    "# Fundamentals of Data Analytics Assignment 1 #"
   ]
  },
  {
   "cell_type": "markdown",
   "metadata": {
    "collapsed": true
   },
   "source": [
    "Anscombe's quartet comprises four datasets that have nearly identical simple descriptive statistics, yet appear very different when graphed. Each dataset consists of eleven (x,y) points. They were constructed in 1973 by the statistician Francis Anscombe to demonstrate both the importance of graphing data before analyzing it and the effect of outliers on statistical properties. He described the article as being intended to counter the impression among statisticians that \"numerical calculations are exact, but graphs are rough.\" (Reference Wikipedia; https://en.wikipedia.org/wiki/Anscombe%27s_quartet)"
   ]
  },
  {
   "cell_type": "markdown",
   "metadata": {},
   "source": [
    "The first thing we need to do is to set up our work book to use the internal tools and libraries within Python. For this I am going to import a number of useful tools and libraries such as Numpy, Matplotlib, Seaborn, and Pandas."
   ]
  },
  {
   "cell_type": "code",
   "execution_count": 1,
   "metadata": {
    "collapsed": true
   },
   "outputs": [],
   "source": [
    "import pandas as pd"
   ]
  },
  {
   "cell_type": "code",
   "execution_count": 2,
   "metadata": {
    "collapsed": true
   },
   "outputs": [],
   "source": [
    "import numpy as np"
   ]
  },
  {
   "cell_type": "code",
   "execution_count": 3,
   "metadata": {
    "collapsed": true
   },
   "outputs": [],
   "source": [
    "import matplotlib.pyplot as plt"
   ]
  },
  {
   "cell_type": "code",
   "execution_count": 4,
   "metadata": {
    "collapsed": true
   },
   "outputs": [],
   "source": [
    "import seaborn as sns"
   ]
  },
  {
   "cell_type": "markdown",
   "metadata": {},
   "source": [
    "## Assigning Distinct Designation of the Anscombe Quartet Data Sets"
   ]
  },
  {
   "cell_type": "markdown",
   "metadata": {
    "collapsed": true
   },
   "source": [
    "The first thing that I am going to do is assign a distinct designation to each of the data sets for the purpose of identification and clarity during analysis.\n",
    "\n",
    "Below I have broken Anscombes Quartet into eight different rows grouped and labled based on their quartet number i.e. 1-4 columns of x,y position. So for the first column of data in Anscombes Quartet, I have labled the x- positions x1 and the y-positions y1, x2 for the second column etc."
   ]
  },
  {
   "cell_type": "code",
   "execution_count": 5,
   "metadata": {
    "collapsed": true
   },
   "outputs": [],
   "source": [
    "x1 = [10.0, 8.0,  13.0,  9.0,  11.0, 14.0, 6.0,  4.0,  12.0,  7.0,  5.0]\n",
    "y1 = [8.04, 6.95, 7.58,  8.81, 8.33, 9.96, 7.24, 4.26, 10.84, 4.82, 5.68]\n",
    "\n",
    "x2 = [10.0, 8.0,  13.0,  9.0,  11.0, 14.0, 6.0,  4.0,  12.0,  7.0,  5.0]\n",
    "y2 = [9.14, 8.14, 8.74,  8.77, 9.26, 8.10, 6.13, 3.10, 9.13,  7.26, 4.74]\n",
    "\n",
    "x3 = [10.0, 8.0,  13.0,  9.0,  11.0, 14.0, 6.0,  4.0,  12.0,  7.0,  5.0]\n",
    "y3 = [7.46, 6.77, 12.74, 7.11, 7.81, 8.84, 6.08, 5.39, 8.15,  6.42, 5.73]\n",
    "\n",
    "x4 = [8.0,  8.0,  8.0,   8.0,  8.0,  8.0,  8.0,  19.0,  8.0,  8.0,  8.0]\n",
    "y4 = [6.58, 5.76, 7.71,  8.84, 8.47, 7.04, 5.25, 12.50, 5.56, 7.91, 6.89]"
   ]
  },
  {
   "cell_type": "markdown",
   "metadata": {},
   "source": [
    "## Descriptive Statistics\n",
    "\n",
    "The basic premis behind Francis Anscombe quartet is that when reviewing data a holistic approach needs to be taken. Statistics and the data that make up the results of the statistical analysis need to be reviewed in conjustion with a graphical representation to get a complete picture of the results and findings.\n",
    "\n",
    "Below I am going to detail the following descriptive statistics for each of the data sets within Anscombes Quartet.\n",
    "\n",
    "- Mean\n",
    "- Mode\n",
    "- Standard Deviation (std)\n",
    "- Max Value (MV)\n",
    "- Min Value (LM)"
   ]
  },
  {
   "cell_type": "markdown",
   "metadata": {},
   "source": [
    "** Quartet 1 x1,y1**\n",
    "\n",
    "What follows are the descriptive statistics for Anscombes Quartet Column 1. Included is the coding required and also a brief outline of the basic statistics. "
   ]
  },
  {
   "cell_type": "code",
   "execution_count": 6,
   "metadata": {
    "collapsed": true
   },
   "outputs": [],
   "source": [
    "Meanx1 = np.mean(x1)\n",
    "Meany1 = np.mean(y1)\n",
    "Medianx1 = np.median(x1)\n",
    "Mediany1 = np.median(y1)\n",
    "Stdx1 = np.std(x1)\n",
    "Stdy1 = np.std(y1)\n",
    "MVx1 = np.max(x1)\n",
    "MVy1 = np.max(y1)\n",
    "LMx1 = np.min(x1)\n",
    "LMy1 = np.min(y1)\n"
   ]
  },
  {
   "cell_type": "code",
   "execution_count": 7,
   "metadata": {},
   "outputs": [
    {
     "name": "stdout",
     "output_type": "stream",
     "text": [
      "The Mean of x1 is 9.0\n",
      "The Mean of y1 is 7.50090909091\n",
      "The Median of x1 is 9.0\n",
      "The Median of y1 is 7.58\n",
      "The Standard Deviation of x1 is 3.16227766017\n",
      "The Standard Deviation of y1 is 1.93702421511\n",
      "The Maximum Value of x1 is 14.0\n",
      "The Maximum Value of y1 is 10.84\n",
      "The Minimum Value of x1 is 4.0\n",
      "The Minimum Value of y1 is 4.26\n"
     ]
    }
   ],
   "source": [
    "print(\"The Mean of x1 is\",Meanx1)\n",
    "print(\"The Mean of y1 is\",Meany1)\n",
    "print(\"The Median of x1 is\",Medianx1)\n",
    "print(\"The Median of y1 is\",Mediany1)\n",
    "print(\"The Standard Deviation of x1 is\",Stdx1)\n",
    "print(\"The Standard Deviation of y1 is\",Stdy1)\n",
    "print(\"The Maximum Value of x1 is\",MVx1)\n",
    "print(\"The Maximum Value of y1 is\",MVy1)\n",
    "print(\"The Minimum Value of x1 is\",LMx1)\n",
    "print(\"The Minimum Value of y1 is\",LMy1)"
   ]
  },
  {
   "cell_type": "markdown",
   "metadata": {},
   "source": [
    "**Quartet 2 x2,y2**\n",
    "\n",
    "Below details the descriptive statistics for Anscombes Quartet Column 2. Included is the coding required and also a brief outline of the basic statistics. "
   ]
  },
  {
   "cell_type": "code",
   "execution_count": 8,
   "metadata": {
    "collapsed": true
   },
   "outputs": [],
   "source": [
    "Meanx2 = np.mean(x2)\n",
    "Meany2 = np.mean(y2)\n",
    "Medianx2 = np.median(x2)\n",
    "Mediany2 = np.median(y2)\n",
    "Stdx2 = np.std(x2)\n",
    "Stdy2 = np.std(y2)\n",
    "MVx2 = np.max(x2)\n",
    "MVy2 = np.max(y2)\n",
    "LMx2 = np.min(x2)\n",
    "LMy2 = np.min(y2)\n"
   ]
  },
  {
   "cell_type": "code",
   "execution_count": 9,
   "metadata": {},
   "outputs": [
    {
     "name": "stdout",
     "output_type": "stream",
     "text": [
      "The Mean of x2 is 9.0\n",
      "The Mean of y2 is 7.50090909091\n",
      "The Median of x2 is 9.0\n",
      "The Median of y2 is 8.14\n",
      "The Standard Deviation of x2 is 3.16227766017\n",
      "The Standard Deviation of y2 is 1.93710869149\n",
      "The Maximum Value of x2 is 14.0\n",
      "The Maximum Value of y2 is 9.26\n",
      "The Minimum Value of x2 is 4.0\n",
      "The Minimum Value of y2 is 3.1\n"
     ]
    }
   ],
   "source": [
    "print(\"The Mean of x2 is\",Meanx2)\n",
    "print(\"The Mean of y2 is\",Meany2)\n",
    "print(\"The Median of x2 is\",Medianx2)\n",
    "print(\"The Median of y2 is\",Mediany2)\n",
    "print(\"The Standard Deviation of x2 is\",Stdx2)\n",
    "print(\"The Standard Deviation of y2 is\",Stdy2)\n",
    "print(\"The Maximum Value of x2 is\",MVx2)\n",
    "print(\"The Maximum Value of y2 is\",MVy2)\n",
    "print(\"The Minimum Value of x2 is\",LMx2)\n",
    "print(\"The Minimum Value of y2 is\",LMy2)"
   ]
  },
  {
   "cell_type": "markdown",
   "metadata": {},
   "source": [
    "**Quartet 3 x3,y3**\n",
    "\n",
    "Below details the descriptive statistics for Anscombes Quartet Column 3. Included is the coding required and also a brief outline of the basic statistics."
   ]
  },
  {
   "cell_type": "code",
   "execution_count": 10,
   "metadata": {
    "collapsed": true
   },
   "outputs": [],
   "source": [
    "Meanx3 = np.mean(x3)\n",
    "Meany3 = np.mean(y3)\n",
    "Medianx3 = np.median(x3)\n",
    "Mediany3 = np.median(y3)\n",
    "Stdx3 = np.std(x3)\n",
    "Stdy3 = np.std(y3)\n",
    "MVx3 = np.max(x3)\n",
    "MVy3 = np.max(y3)\n",
    "LMx3 = np.min(x3)\n",
    "LMy3 = np.min(y3)"
   ]
  },
  {
   "cell_type": "code",
   "execution_count": 11,
   "metadata": {},
   "outputs": [
    {
     "name": "stdout",
     "output_type": "stream",
     "text": [
      "The Mean of x3 is 9.0\n",
      "The Mean of y3 is 7.5\n",
      "The Median of x3 is 9.0\n",
      "The Median of y3 is 7.11\n",
      "The Standard Deviation of x3 is 3.16227766017\n",
      "The Standard Deviation of y3 is 1.93593294399\n",
      "The Maximum Value of x3 is 14.0\n",
      "The Maximum Value of y3 is 12.74\n",
      "The Minimum Value of x3 is 4.0\n",
      "The Minimum Value of y3 is 5.39\n"
     ]
    }
   ],
   "source": [
    "print(\"The Mean of x3 is\",Meanx3)\n",
    "print(\"The Mean of y3 is\",Meany3)\n",
    "print(\"The Median of x3 is\",Medianx3)\n",
    "print(\"The Median of y3 is\",Mediany3)\n",
    "print(\"The Standard Deviation of x3 is\",Stdx3)\n",
    "print(\"The Standard Deviation of y3 is\",Stdy3)\n",
    "print(\"The Maximum Value of x3 is\",MVx3)\n",
    "print(\"The Maximum Value of y3 is\",MVy3)\n",
    "print(\"The Minimum Value of x3 is\",LMx3)\n",
    "print(\"The Minimum Value of y3 is\",LMy3)"
   ]
  },
  {
   "cell_type": "markdown",
   "metadata": {},
   "source": [
    "**Quartet 4 x4,y4**\n",
    "\n",
    "Finally we look below at the descriptive statistics for Anscombes Quartet Column 4. Included is the coding required and also a brief outline of the basic statistics.\n",
    "\n"
   ]
  },
  {
   "cell_type": "code",
   "execution_count": 12,
   "metadata": {
    "collapsed": true
   },
   "outputs": [],
   "source": [
    "Meanx4 = np.mean(x4)\n",
    "Meany4 = np.mean(y4)\n",
    "Medianx4 = np.median(x4)\n",
    "Mediany4 = np.median(y4)\n",
    "Stdx4 = np.std(x4)\n",
    "Stdy4 = np.std(y4)\n",
    "MVx4 = np.max(x4)\n",
    "MVy4 = np.max(y4)\n",
    "LMx4 = np.min(x4)\n",
    "LMy4 = np.min(y4)"
   ]
  },
  {
   "cell_type": "code",
   "execution_count": 13,
   "metadata": {},
   "outputs": [
    {
     "name": "stdout",
     "output_type": "stream",
     "text": [
      "The Mean of x4 is 9.0\n",
      "The Mean of y4 is 7.50090909091\n",
      "The Median of x4 is 8.0\n",
      "The Median of y4 is 7.04\n",
      "The Standard Deviation of x4 is 3.16227766017\n",
      "The Standard Deviation of y4 is 1.93608064513\n",
      "The Maximum Value of x4 is 19.0\n",
      "The Maximum Value of y4 is 12.5\n",
      "The Minimum Value of x4 is 8.0\n",
      "The Minimum Value of y4 is 5.25\n"
     ]
    }
   ],
   "source": [
    "print(\"The Mean of x4 is\",Meanx4)\n",
    "print(\"The Mean of y4 is\",Meany4)\n",
    "print(\"The Median of x4 is\",Medianx4)\n",
    "print(\"The Median of y4 is\",Mediany4)\n",
    "print(\"The Standard Deviation of x4 is\",Stdx4)\n",
    "print(\"The Standard Deviation of y4 is\",Stdy4)\n",
    "print(\"The Maximum Value of x4 is\",MVx4)\n",
    "print(\"The Maximum Value of y4 is\",MVy4)\n",
    "print(\"The Minimum Value of x4 is\",LMx4)\n",
    "print(\"The Minimum Value of y4 is\",LMy4)"
   ]
  },
  {
   "cell_type": "markdown",
   "metadata": {},
   "source": [
    "## Summary of Anscombes Quartet Discriptive Statistics"
   ]
  },
  {
   "cell_type": "code",
   "execution_count": 14,
   "metadata": {},
   "outputs": [
    {
     "name": "stdout",
     "output_type": "stream",
     "text": [
      "The X Means of Anscombes Quartet are as follows; 9.0 9.0 9.0 9.0\n",
      "The Y Means of Anscombes Quartet are as follows; 7.50090909091 7.50090909091 7.5 7.50090909091\n",
      "The X Medians of Anscombes Quartet are as follows; 9.0 9.0 9.0 8.0\n",
      "The Y Medians of Anscombes Quartet are as follows; 7.58 8.14 7.11 7.04\n",
      "The X Standard Deviation of Anscombes Quartet are as follows; 3.16227766017 3.16227766017 3.16227766017 3.16227766017\n",
      "The Y Standard Deviation of Anscombes Quartet are as follows; 1.93702421511 1.93710869149 1.93593294399 1.93608064513\n",
      "The X Maximum Value of Anscombes Quartet are as follows; 14.0 14.0 14.0 19.0\n",
      "The Y Maximum Value of Anscombes Quartet are as follows; 10.84 9.26 12.74 12.5\n",
      "The X Minimum Value of Anscombes Quartet are as follows; 4.0 4.0 4.0 8.0\n",
      "The Y Minimum Value of Anscombes Quartet are as follows; 4.26 3.1 5.39 5.25\n"
     ]
    }
   ],
   "source": [
    "print(\"The X Means of Anscombes Quartet are as follows;\",Meanx1, Meanx2, Meanx3, Meanx4)\n",
    "print(\"The Y Means of Anscombes Quartet are as follows;\",Meany1, Meany2, Meany3, Meany4)\n",
    "print(\"The X Medians of Anscombes Quartet are as follows;\",Medianx1, Medianx2, Medianx3, Medianx4)\n",
    "print(\"The Y Medians of Anscombes Quartet are as follows;\",Mediany1, Mediany2, Mediany3, Mediany4)\n",
    "print(\"The X Standard Deviation of Anscombes Quartet are as follows;\",Stdx1, Stdx2, Stdx3, Stdx4)\n",
    "print(\"The Y Standard Deviation of Anscombes Quartet are as follows;\",Stdy1, Stdy2, Stdy3, Stdy4)\n",
    "print(\"The X Maximum Value of Anscombes Quartet are as follows;\",MVx1, MVx2, MVx3, MVx4)\n",
    "print(\"The Y Maximum Value of Anscombes Quartet are as follows;\",MVy1, MVy2, MVy3, MVy4)\n",
    "print(\"The X Minimum Value of Anscombes Quartet are as follows;\",LMx1, LMx2, LMx3, LMx4)\n",
    "print(\"The Y Minimum Value of Anscombes Quartet are as follows;\",LMy1, LMy2, LMy3, LMy4)"
   ]
  },
  {
   "cell_type": "markdown",
   "metadata": {},
   "source": [
    "## Slope Calculation for Each of the Quartets\n",
    "\n",
    "To determine the slope of the lines for each of Anscombes Quartets (if there is a linear relationship) the following formulae will be used;\n",
    "\n",
    "                                    m = (y2-y1) / (x2-x1)\n",
    "                                    \n",
    "To provode clarity the slope of Anscombes individual Quartets will be designated as follows;\n",
    "\n",
    "- Quartet 1 = m1\n",
    "- Quartet 2 = m2\n",
    "- Quartet 3 = m3\n",
    "- Quartet 4 = m4"
   ]
  },
  {
   "cell_type": "code",
   "execution_count": 15,
   "metadata": {},
   "outputs": [
    {
     "name": "stdout",
     "output_type": "stream",
     "text": [
      "The Slope (m) of Quartet 1 is; 0.658\n",
      "The Slope (m) of Quartet 2 is; 0.616\n",
      "The Slope (m) of Quartet 3 is; 0.735\n",
      "The Slope (m) of Quartet 4 is; 0.659090909091\n"
     ]
    }
   ],
   "source": [
    "m1= ((MVy1-LMy1) / (MVx1-LMx1))\n",
    "print (\"The Slope (m) of Quartet 1 is;\", m1)\n",
    "m2= ((MVy2-LMy2) / (MVx2-LMx2))\n",
    "print (\"The Slope (m) of Quartet 2 is;\", m2)\n",
    "m3= ((MVy3-LMy3) / (MVx3-LMx3))\n",
    "print (\"The Slope (m) of Quartet 3 is;\", m3)\n",
    "m4= ((MVy4-LMy4) / (MVx4-LMx4))\n",
    "print (\"The Slope (m) of Quartet 4 is;\", m4)"
   ]
  },
  {
   "cell_type": "markdown",
   "metadata": {},
   "source": [
    "By calculating the slope of each of the quartets within Anscombes data set we get our first clue that something is a miss. Even though the descriptive statistics are very similar, you would expect the plotted data would be similar or very close but as the slope of the lines are very different we get an idea that the data cannot look the same."
   ]
  },
  {
   "cell_type": "markdown",
   "metadata": {},
   "source": [
    "## Graphical Summary of Anscombe Quartet\n",
    "\n",
    "As can be seen from the descriptive statistics summary, the mean's of each of the quartets (x,y) are extremely close as are all the other descriptive statistics listed.It would not be unreasonable to assume the data points would plot in a similar distribution. But as we have just detailed the slope of each of the quartets is different which has given us a clue that everything may not be as we have assumed. To investigate this we will plot each of the quartets and look to determine the best fit line."
   ]
  },
  {
   "cell_type": "markdown",
   "metadata": {},
   "source": [
    "**Scatter Plot of Anscombes Quartet 1**"
   ]
  },
  {
   "cell_type": "code",
   "execution_count": 16,
   "metadata": {},
   "outputs": [
    {
     "data": {
      "image/png": "[encoded data removed]",
      "text/plain": [
       "<matplotlib.figure.Figure at 0x20dedd66198>"
      ]
     },
     "metadata": {},
     "output_type": "display_data"
    }
   ],
   "source": [
    "plt.plot(x1, y1, 'k.', color='black')\n",
    "plt.title('Anscombes Quartet 1')\n",
    "plt.xlabel('X1')\n",
    "plt.ylabel('Y1')\n",
    "plt.show()"
   ]
  },
  {
   "cell_type": "markdown",
   "metadata": {},
   "source": [
    "A scatter plot has been created for the first data set from Anscombes Quartet and there does seem to be a slight positive linear relationship between the x1 and y1 values. We will now plot a line between the lowest x1 value and the largest x1 value to visualise where each data point lays in relation to the slope between the two x values."
   ]
  },
  {
   "cell_type": "code",
   "execution_count": 17,
   "metadata": {},
   "outputs": [
    {
     "data": {
      "image/png": "[encoded data removed]",
      "text/plain": [
       "<matplotlib.figure.Figure at 0x20dedb64cc0>"
      ]
     },
     "metadata": {},
     "output_type": "display_data"
    }
   ],
   "source": [
    "plt.plot(x1, y1, 'k.', color='black', label=\"Data\")\n",
    "plt.plot([14,4],[9.6,4.26],'b', label=\"Slope Line\")\n",
    "plt.legend()\n",
    "plt.title('Anscombes Quartet 1')\n",
    "plt.xlabel('X1')\n",
    "plt.ylabel('Y1')\n",
    "plt.show()"
   ]
  },
  {
   "cell_type": "markdown",
   "metadata": {},
   "source": [
    "A line has been plotted between the lowest and the highest points within the Anscombe Quartet Column 1. But as you can see there is more points above the line than below. To see what the best fit line is and compare it to the slope we have manually calculated from the first quartet I will use the following equation identify the best fit line which will in turn identify the best fit slope and y-intersect usig the least squares methodology;\n",
    "\n",
    "                                            np.polyfit(x1,y1,1)\n",
    "                                            \n",
    "  - x1 = x values from Anscombes Quartet 1 Data Set\n",
    "  - y1 = y values from Anscombes Quartet 1 Data Set\n",
    "  -  1 = In the case of this problem we are looking at a linear relationship, if we were looking at a quadratic relationship             this value would change\n",
    "  \n",
    "**Note;** The x1, y1 will change to x2, y2 etc for calculations using the 2nd, 3rd and 4th quartets."
   ]
  },
  {
   "cell_type": "code",
   "execution_count": 18,
   "metadata": {},
   "outputs": [
    {
     "data": {
      "text/plain": [
       "array([ 0.50009091,  3.00009091])"
      ]
     },
     "execution_count": 18,
     "metadata": {},
     "output_type": "execute_result"
    }
   ],
   "source": [
    "np.polyfit(x1,y1,1)"
   ]
  },
  {
   "cell_type": "markdown",
   "metadata": {
    "collapsed": true
   },
   "source": [
    "The ideal best fit line to \"minimise the cost\" would have a slope m, of 0.50009091 and a y=intercept c, of 3.00009091.\n",
    "\n",
    "Now lets calculation two points using the max and min values for x from quartet 1 to draft the best fit line using the following equation;\n",
    "\n",
    "                                            - y = mx + c\n",
    "                                            \n",
    "The following designations will be applied for the best fit line;\n",
    "\n",
    "- slope = mi\n",
    "- c = y-intercept\n",
    "- x1h = x value highpoint\n",
    "- x1l = x value low point\n",
    "- y1h = y value highpoint\n",
    "- y1l = y value low point"
   ]
  },
  {
   "cell_type": "code",
   "execution_count": 19,
   "metadata": {
    "collapsed": true
   },
   "outputs": [],
   "source": [
    "mi = 0.50009091\n",
    "c = 3.00009091\n",
    "x1h = MVx1\n",
    "x1l = LMx1"
   ]
  },
  {
   "cell_type": "code",
   "execution_count": 20,
   "metadata": {},
   "outputs": [
    {
     "name": "stdout",
     "output_type": "stream",
     "text": [
      "The x, y value for the high point is; 14.0 10.00136365\n",
      "The x, y value for the low point is; 4.0 5.00045455\n"
     ]
    }
   ],
   "source": [
    "y1h = (mi*x1h+c)\n",
    "y1l = (mi*x1l+c)\n",
    "print(\"The x, y value for the high point is;\",x1h,y1h)\n",
    "print(\"The x, y value for the low point is;\",x1l,y1l)"
   ]
  },
  {
   "cell_type": "markdown",
   "metadata": {},
   "source": [
    "Using the points calculated (4.0, 5.00045455) and (14.0, 10.00136365) I will now draft the best fit line to the Anscombe Quartet 1 Graph"
   ]
  },
  {
   "cell_type": "code",
   "execution_count": 21,
   "metadata": {},
   "outputs": [
    {
     "data": {
      "image/png": "[encoded data removed]",
      "text/plain": [
       "<matplotlib.figure.Figure at 0x20ded925390>"
      ]
     },
     "metadata": {},
     "output_type": "display_data"
    }
   ],
   "source": [
    "plt.plot(x1, y1, 'k.', color='black', label=\"Data\")\n",
    "plt.plot([14,4],[9.6,4.26],'b', label=\"Slope Line\")\n",
    "plt.plot([14.0, 4.0], [10.00136365, 5.00045455],'g', label=\"Best Fit Line\")\n",
    "plt.legend()\n",
    "plt.title('Anscombes Quartet 1')\n",
    "plt.xlabel('X1')\n",
    "plt.ylabel('Y1')\n",
    "plt.show()"
   ]
  },
  {
   "cell_type": "markdown",
   "metadata": {},
   "source": [
    "Added to the Anscombe Quartet 1 Graph above is the calculated best fit line.\n",
    "\n",
    "These tasks will not be repeated for the rest of the remaining three Quartets to compare their data sets visually"
   ]
  },
  {
   "cell_type": "markdown",
   "metadata": {
    "collapsed": true
   },
   "source": [
    "**Scatter Plot of Anscombes Quartet 2**"
   ]
  },
  {
   "cell_type": "code",
   "execution_count": 22,
   "metadata": {},
   "outputs": [
    {
     "data": {
      "image/png": "[encoded data removed]",
      "text/plain": [
       "<matplotlib.figure.Figure at 0x20ded8ce978>"
      ]
     },
     "metadata": {},
     "output_type": "display_data"
    }
   ],
   "source": [
    "plt.plot(x2, y2, 'k.', color='black')\n",
    "plt.title('Anscombes Quartet 2')\n",
    "plt.xlabel('X2')\n",
    "plt.ylabel('Y2')\n",
    "plt.show()"
   ]
  },
  {
   "cell_type": "markdown",
   "metadata": {},
   "source": [
    "As can be seen from the plot above, Anscombes Quartet 2 has a completely different plot to Anscombe Quartet 1"
   ]
  },
  {
   "cell_type": "code",
   "execution_count": 23,
   "metadata": {},
   "outputs": [
    {
     "data": {
      "image/png": "[encoded data removed]",
      "text/plain": [
       "<matplotlib.figure.Figure at 0x20dedb55ef0>"
      ]
     },
     "metadata": {},
     "output_type": "display_data"
    }
   ],
   "source": [
    "plt.plot(x2, y2, 'k.', color='black', label=\"Data\")\n",
    "plt.plot([10.0,4.0],[9.14,3.10],'b', label=\"Slope Line\")\n",
    "plt.legend()\n",
    "plt.title('Anscombes Quartet 2')\n",
    "plt.xlabel('X2')\n",
    "plt.ylabel('Y2')\n",
    "plt.show()"
   ]
  },
  {
   "cell_type": "markdown",
   "metadata": {},
   "source": [
    "A line has been plotted but as can be seen it does not fit the data well. As previously completed for Quartet 1 to see what the best fit line is we will use the following equation to identify the best fit line which will in turn identify the best fit slope and y-intersect usig the least squares methodology;\n",
    "\n",
    "                                        np.polyfit(x2,y2,1)"
   ]
  },
  {
   "cell_type": "code",
   "execution_count": 24,
   "metadata": {},
   "outputs": [
    {
     "data": {
      "text/plain": [
       "array([ 0.5       ,  3.00090909])"
      ]
     },
     "execution_count": 24,
     "metadata": {},
     "output_type": "execute_result"
    }
   ],
   "source": [
    "np.polyfit(x2,y2,1)"
   ]
  },
  {
   "cell_type": "markdown",
   "metadata": {},
   "source": [
    "The ideal best fit line to \"minimise the cost\" would have a slope m, of 0.5 and a y=intercept c, of 3.0000909.\n",
    "Now lets calculation two points using the max and min values for x from quartet 2 to draft the best fit line using the following equation;\n",
    "                                        - y = mx + c\n",
    "The following designations will be applied for the best fit line;\n",
    "\n",
    "- slope = mi\n",
    "- c = y-intercept\n",
    "- x2h = x value highpoint\n",
    "- x2l = x value low point\n",
    "- y2h = y value highpoint\n",
    "- y2l = y value low point"
   ]
  },
  {
   "cell_type": "code",
   "execution_count": 25,
   "metadata": {
    "collapsed": true
   },
   "outputs": [],
   "source": [
    "mi = 0.5\n",
    "c = 3.0000909\n",
    "x2h = MVx2\n",
    "x2l = LMx2"
   ]
  },
  {
   "cell_type": "code",
   "execution_count": 26,
   "metadata": {},
   "outputs": [
    {
     "name": "stdout",
     "output_type": "stream",
     "text": [
      "The x, y value for the high point is; 14.0 10.0000909\n",
      "The x, y value for the low point is; 4.0 5.0000909\n"
     ]
    }
   ],
   "source": [
    "y2h = (mi*x2h+c)\n",
    "y2l = (mi*x2l+c)\n",
    "print(\"The x, y value for the high point is;\",x2h,y2h)\n",
    "print(\"The x, y value for the low point is;\",x2l,y2l)"
   ]
  },
  {
   "cell_type": "markdown",
   "metadata": {},
   "source": [
    "Using the points calculated (4.0, 5.0000909) and (14.0, 10.0000909) I will now draft the best fit line to the Anscombe Quartet 2 Graph"
   ]
  },
  {
   "cell_type": "code",
   "execution_count": 27,
   "metadata": {},
   "outputs": [
    {
     "data": {
      "image/png": "[encoded data removed]",
      "text/plain": [
       "<matplotlib.figure.Figure at 0x20dedae8710>"
      ]
     },
     "metadata": {},
     "output_type": "display_data"
    }
   ],
   "source": [
    "plt.plot(x2, y2, 'k.', color='black', label=\"Data\")\n",
    "plt.plot([10.0,4.0],[9.14,3.10],'b', label=\"Slope Line\")\n",
    "plt.plot([14.0, 4.0], [10.0000909, 5.0000909],'g', label=\"Best Fit Line\")\n",
    "plt.legend()\n",
    "plt.title('Anscombes Quartet 2')\n",
    "plt.xlabel('X2')\n",
    "plt.ylabel('Y2')\n",
    "plt.show()"
   ]
  },
  {
   "cell_type": "markdown",
   "metadata": {},
   "source": [
    "As can be seen from Anscombes Quartet 2 data set even though all the descriptive statisitics are similar to set 1 and even the best fit line vales are practically identical the distribution of the data is completely different."
   ]
  },
  {
   "cell_type": "markdown",
   "metadata": {
    "collapsed": true
   },
   "source": [
    "**Scatter Plot of Anscombes Quartet 3**"
   ]
  },
  {
   "cell_type": "code",
   "execution_count": 28,
   "metadata": {},
   "outputs": [
    {
     "data": {
      "image/png": "[encoded data removed]",
      "text/plain": [
       "<matplotlib.figure.Figure at 0x20dedb78048>"
      ]
     },
     "metadata": {},
     "output_type": "display_data"
    }
   ],
   "source": [
    "plt.plot(x3, y3, 'k.', color='black')\n",
    "plt.title('Anscombes Quartet 3')\n",
    "plt.xlabel('X3')\n",
    "plt.ylabel('Y3')\n",
    "plt.show()"
   ]
  },
  {
   "cell_type": "markdown",
   "metadata": {},
   "source": [
    "The scatter plot for Quartet 3 does look to have a positive linear relaionship (with one outlier) between the x and y values but has been previously highlighted the data distribution is completely different from Quartets 1 and 2."
   ]
  },
  {
   "cell_type": "code",
   "execution_count": 29,
   "metadata": {},
   "outputs": [
    {
     "data": {
      "image/png": "[encoded data removed]",
      "text/plain": [
       "<matplotlib.figure.Figure at 0x20dedee2390>"
      ]
     },
     "metadata": {},
     "output_type": "display_data"
    }
   ],
   "source": [
    "plt.plot(x3, y3, 'k.', color='black', label=\"Data\")\n",
    "plt.plot([14.0,4.0],[8.84,5.39],'b', label=\"Slope Line\")\n",
    "plt.legend()\n",
    "plt.title('Anscombes Quartet 3')\n",
    "plt.xlabel('X3')\n",
    "plt.ylabel('Y3')\n",
    "plt.show()"
   ]
  },
  {
   "cell_type": "markdown",
   "metadata": {},
   "source": [
    "A near perfect line has been plotted that fits all data points. As previously completed for Quartet 1 and 2 to see what the best fit line is we will use the following equation to identify the best fit line which will in turn identify the best fit slope and y-intersect usig the least squares methodology;\n",
    "\n",
    "                                    np.polyfit(x3,y3,1)\n",
    "\n",
    "As this line nearly fits all data points, we would expect the best fit line slope to be close to the manually calculated slope we completed earlier for Quartet 3 i.e. 0.735"
   ]
  },
  {
   "cell_type": "code",
   "execution_count": 30,
   "metadata": {},
   "outputs": [
    {
     "data": {
      "text/plain": [
       "array([ 0.49972727,  3.00245455])"
      ]
     },
     "execution_count": 30,
     "metadata": {},
     "output_type": "execute_result"
    }
   ],
   "source": [
    "np.polyfit(x3,y3,1)"
   ]
  },
  {
   "cell_type": "markdown",
   "metadata": {},
   "source": [
    "The ideal best fit line to \"minimise the cost\" would have a slope m, of 0.49972727 and a y=intercept c, of 3.00245455. Now lets calculation two points using the max and min values for x from quartet 3 to draft the best fit line using the following equation;\n",
    "                                    - y = mx + c\n",
    "The following designations will be applied for the best fit line; \n",
    "- slope = mi\n",
    "- c = y-intercept \n",
    "- x3h = x value highpoint \n",
    "- x3l = x value low point \n",
    "- y3h = y value highpoint \n",
    "- y3l = y value low point"
   ]
  },
  {
   "cell_type": "code",
   "execution_count": 31,
   "metadata": {
    "collapsed": true
   },
   "outputs": [],
   "source": [
    "mi = 0.49972727\n",
    "c = 3.00245455\n",
    "x3h = MVx3\n",
    "x3l = LMx3"
   ]
  },
  {
   "cell_type": "code",
   "execution_count": 32,
   "metadata": {},
   "outputs": [
    {
     "name": "stdout",
     "output_type": "stream",
     "text": [
      "The x, y value for the high point is; 14.0 9.99863633\n",
      "The x, y value for the low point is; 4.0 5.00136363\n"
     ]
    }
   ],
   "source": [
    "y3h = (mi*x3h+c)\n",
    "y3l = (mi*x3l+c)\n",
    "print(\"The x, y value for the high point is;\",x3h,y3h)\n",
    "print(\"The x, y value for the low point is;\",x3l,y3l)"
   ]
  },
  {
   "cell_type": "markdown",
   "metadata": {},
   "source": [
    "Using the points calculated (4.0, 5.00136363) and (14.0, 9.99863633) I will now draft the best fit line to the Anscombe Quartet 3 Graph"
   ]
  },
  {
   "cell_type": "code",
   "execution_count": 33,
   "metadata": {},
   "outputs": [
    {
     "data": {
      "image/png": "[encoded data removed]",
      "text/plain": [
       "<matplotlib.figure.Figure at 0x20de71a94e0>"
      ]
     },
     "metadata": {},
     "output_type": "display_data"
    }
   ],
   "source": [
    "plt.plot(x3, y3, 'k.', color='black', label=\"Data\")\n",
    "plt.plot([14.0,4.0],[8.84,5.39],'b', label=\"Slope Line\")\n",
    "plt.plot([14.0, 4.0], [9.99863633, 5.00136363],'g', label=\"Best Fit Line\")\n",
    "plt.legend()\n",
    "plt.title('Anscombes Quartet 3')\n",
    "plt.xlabel('X3')\n",
    "plt.ylabel('Y3')\n",
    "plt.show()"
   ]
  },
  {
   "cell_type": "markdown",
   "metadata": {},
   "source": [
    "Due to the one outlier point the best fit line slope is adjusted to take accound of this. Even though the best fit line equations and descriptive statistics for Quartets 1,2 and 3 are practically identical the graphical summary tells a very different story."
   ]
  },
  {
   "cell_type": "markdown",
   "metadata": {
    "collapsed": true
   },
   "source": [
    "**Scatter Plot of Anscombes Quartet 4**"
   ]
  },
  {
   "cell_type": "code",
   "execution_count": 34,
   "metadata": {},
   "outputs": [
    {
     "data": {
      "image/png": "[encoded data removed]",
      "text/plain": [
       "<matplotlib.figure.Figure at 0x20dee0a8d68>"
      ]
     },
     "metadata": {},
     "output_type": "display_data"
    }
   ],
   "source": [
    "plt.plot(x4, y4, 'k.', color='black')\n",
    "plt.title('Anscombes Quartet 4')\n",
    "plt.xlabel('X4')\n",
    "plt.ylabel('Y4')\n",
    "plt.show()"
   ]
  },
  {
   "cell_type": "markdown",
   "metadata": {},
   "source": [
    "The scatter plot for Quartet 4 shows that all x values other than one outlier are 8. This is a completely different data set compared to the other 4 quartets. As there is only 1 other point on the x-axis that is not 8 there is no point in drafting a slope line as it would not make sense.\n",
    "\n",
    "To see what the best fit line is we will use the following equation to identify the best fit line which will in turn identify the best fit slope and y-intersect usig the least squares methodology;\n",
    "\n",
    "                                np.polyfit(x4,y4,1)"
   ]
  },
  {
   "cell_type": "code",
   "execution_count": 35,
   "metadata": {},
   "outputs": [
    {
     "data": {
      "text/plain": [
       "array([ 0.49990909,  3.00172727])"
      ]
     },
     "execution_count": 35,
     "metadata": {},
     "output_type": "execute_result"
    }
   ],
   "source": [
    "np.polyfit(x4,y4,1)"
   ]
  },
  {
   "cell_type": "markdown",
   "metadata": {},
   "source": [
    "The ideal best fit line to \"minimise the cost\" would have a slope m, of 0.49990909 and a y=intercept c, of 3.00172727. Now lets calculation two points using the max and min values for x from quartet 4 to draft the best fit line using the following equation;\n",
    "                                - y = mx + c\n",
    "                                \n",
    "The following designations will be applied for the best fit line;\n",
    "\n",
    "- slope = mi\n",
    "- c = y-intercept \n",
    "- x4h = x value highpoint \n",
    "- x4l = x value low point \n",
    "- y4h = y value highpoint \n",
    "- y4l = y value low point"
   ]
  },
  {
   "cell_type": "code",
   "execution_count": 36,
   "metadata": {
    "collapsed": true
   },
   "outputs": [],
   "source": [
    "mi = 0.49990909\n",
    "c = 3.00172727\n",
    "x4h = MVx4\n",
    "x4l = LMx4"
   ]
  },
  {
   "cell_type": "code",
   "execution_count": 37,
   "metadata": {},
   "outputs": [
    {
     "name": "stdout",
     "output_type": "stream",
     "text": [
      "The x, y value for the high point is; 19.0 12.49999998\n",
      "The x, y value for the low point is; 8.0 7.00099999\n"
     ]
    }
   ],
   "source": [
    "y4h = (mi*x4h+c)\n",
    "y4l = (mi*x4l+c)\n",
    "print(\"The x, y value for the high point is;\",x4h,y4h)\n",
    "print(\"The x, y value for the low point is;\",x4l,y4l)"
   ]
  },
  {
   "cell_type": "markdown",
   "metadata": {},
   "source": [
    "Using the points calculated (8.0, 7.00099999) and (19.0, 12.499999998) I will now draft the best fit line to the Anscombe Quartet 4 Graph"
   ]
  },
  {
   "cell_type": "code",
   "execution_count": 38,
   "metadata": {},
   "outputs": [
    {
     "data": {
      "image/png": "[encoded data removed]",
      "text/plain": [
       "<matplotlib.figure.Figure at 0x20dedeeaf60>"
      ]
     },
     "metadata": {},
     "output_type": "display_data"
    }
   ],
   "source": [
    "plt.plot(x4, y4, 'k.', color='black', label=\"Data\")\n",
    "plt.plot([19.0, 8.0], [12.49999998, 7.00099999],'g', label=\"Best Fit Line\")\n",
    "plt.legend()\n",
    "plt.title('Anscombes Quartet 4')\n",
    "plt.xlabel('X4')\n",
    "plt.ylabel('Y4')\n",
    "plt.show()"
   ]
  },
  {
   "cell_type": "markdown",
   "metadata": {},
   "source": [
    "Again due to the one outlier point the best fit line slope is adjusted to take accound of this. What has been illustrated so far is that each of Anscombes Quartet visually tell 4 very different stories."
   ]
  },
  {
   "cell_type": "markdown",
   "metadata": {},
   "source": [
    "# Summary of Analysis #"
   ]
  },
  {
   "attachments": {},
   "cell_type": "markdown",
   "metadata": {
    "collapsed": true
   },
   "source": [
    "The analysis above proves Francis Anscombe's argument that descriptive statistics alone only tell part of the story behind the data analysed. Even though each of the Quartet's descriptive statistics where were of sound analysis and displayed remarkably similar results, failing to plot the data would leave the analyst determining the wrong conclusions.\n",
    "\n",
    "Though from our manual calculation of the slope of each of the data sets we assumed the relationship between the x and y data points were linear, they gave us starting point to investigate why supposedly very similar data sets (descriptive statistical analysis) had such varying slopes.\n",
    "\n",
    "There are many possiblities for the source of Anscombes Quartet such as and alogrithimic RNG with specified parameters or some well characterised manufacturing process that drifts predictably over time until the equipments next calibration or maintenance cycle. My guess would be some well characterised natural order or biological sequence such as the growth or transformation of a biological phenomena or the decay of radition. \n",
    "\n",
    "**Anscombes Quartet 1**, is an example of pure / random error, the prediction error for any data point is the distance of the observed response from the predicted response. There are two main reasons for why data points might not fall right on the estimated regression line.\n",
    "\n",
    "1. Lack of Fit\n",
    "2. Random Error\n",
    "\n",
    "For Anscombes Quartet 1 it looks like random error is the cause for our model's poor fit.\n",
    "\n",
    "**Anscombes Quartet 2**, is an example of lack of fit, like in Quartet 1 the prediction error for any data point is the distance of the observed response from the predicted response. When most of the error is due to lack of fit it is best to try a different model.\n",
    "\n",
    "**Anscombes Quartet 3**, is an example where an outlier to the data set has a greater influence on the data set. The model does exhibit a linear relation between the x and y values but due to the outlier the model is disrupted. A practical solution to this is to investigate the outlier and determine whether it is a true and valid result. If a root cause for the result can bee attributed to measurement error or some other valid reason the data point could be excluded.\n",
    "\n",
    "**Anscombes Quartet 4**, as Quartet 1 and 2 are linked through poor fit, Ascombes third and forth quartets are linked through influence. Another point is having an undue effect on the model, in this case the slope is completely determined by the outlier. Without this point a regression (slope) line could not be fit to the model.\n",
    "\n",
    "\n",
    "Anscombes Quartet should highlight the power outliers can have on statistical tests and the importance of graphically displaying your data inconjunction with statistical analysis. Descriptive statistical and analytical tools may not be powerful enough to detect when an outlier is having a weighted influence on the analysis.\n",
    "\n",
    "\n",
    "\n",
    "\n"
   ]
  }
 ],
 "metadata": {
  "kernelspec": {
   "display_name": "Python 3",
   "language": "python",
   "name": "python3"
  },
  "language_info": {
   "codemirror_mode": {
    "name": "ipython",
    "version": 3
   },
   "file_extension": ".py",
   "mimetype": "text/x-python",
   "name": "python",
   "nbconvert_exporter": "python",
   "pygments_lexer": "ipython3",
   "version": "3.6.3"
  }
 },
 "nbformat": 4,
 "nbformat_minor": 2
}
